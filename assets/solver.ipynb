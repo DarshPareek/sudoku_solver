{
 "cells": [
  {
   "cell_type": "code",
   "execution_count": 1,
   "metadata": {},
   "outputs": [
    {
     "name": "stderr",
     "output_type": "stream",
     "text": [
      "2023-11-22 16:04:00.681440: E tensorflow/compiler/xla/stream_executor/cuda/cuda_dnn.cc:9342] Unable to register cuDNN factory: Attempting to register factory for plugin cuDNN when one has already been registered\n",
      "2023-11-22 16:04:00.681483: E tensorflow/compiler/xla/stream_executor/cuda/cuda_fft.cc:609] Unable to register cuFFT factory: Attempting to register factory for plugin cuFFT when one has already been registered\n",
      "2023-11-22 16:04:00.681500: E tensorflow/compiler/xla/stream_executor/cuda/cuda_blas.cc:1518] Unable to register cuBLAS factory: Attempting to register factory for plugin cuBLAS when one has already been registered\n"
     ]
    }
   ],
   "source": [
    "import os\n",
    "os.environ['TF_CPP_MIN_LOG_LEVEL'] = '2'\n",
    "import tensorflow as tf\n",
    "import pandas as pd\n",
    "import numpy as np\n",
    "from data_gen import X_s, Y_s\n",
    "from tensorflow import keras\n",
    "from keras import layers\n",
    "from keras.callbacks import Callback\n",
    "import matplotlib.pyplot as plt"
   ]
  },
  {
   "cell_type": "code",
   "execution_count": 2,
   "metadata": {},
   "outputs": [
    {
     "data": {
      "text/plain": [
       "array([[[-0.5       ],\n",
       "        [-0.5       ],\n",
       "        [-0.05555556],\n",
       "        [-0.16666667],\n",
       "        [-0.5       ],\n",
       "        [-0.5       ],\n",
       "        [-0.27777778],\n",
       "        [-0.5       ],\n",
       "        [ 0.5       ]],\n",
       "\n",
       "       [[-0.5       ],\n",
       "        [-0.5       ],\n",
       "        [ 0.05555556],\n",
       "        [-0.5       ],\n",
       "        [-0.5       ],\n",
       "        [ 0.5       ],\n",
       "        [-0.5       ],\n",
       "        [-0.5       ],\n",
       "        [-0.38888889]],\n",
       "\n",
       "       [[-0.5       ],\n",
       "        [ 0.27777778],\n",
       "        [-0.5       ],\n",
       "        [-0.5       ],\n",
       "        [ 0.16666667],\n",
       "        [-0.5       ],\n",
       "        [-0.5       ],\n",
       "        [-0.05555556],\n",
       "        [-0.16666667]],\n",
       "\n",
       "       [[-0.5       ],\n",
       "        [-0.5       ],\n",
       "        [ 0.16666667],\n",
       "        [-0.5       ],\n",
       "        [-0.5       ],\n",
       "        [-0.27777778],\n",
       "        [-0.5       ],\n",
       "        [ 0.38888889],\n",
       "        [ 0.27777778]],\n",
       "\n",
       "       [[-0.38888889],\n",
       "        [ 0.5       ],\n",
       "        [-0.5       ],\n",
       "        [-0.5       ],\n",
       "        [-0.5       ],\n",
       "        [ 0.27777778],\n",
       "        [-0.05555556],\n",
       "        [-0.5       ],\n",
       "        [-0.5       ]],\n",
       "\n",
       "       [[-0.5       ],\n",
       "        [ 0.05555556],\n",
       "        [-0.5       ],\n",
       "        [-0.5       ],\n",
       "        [ 0.38888889],\n",
       "        [-0.16666667],\n",
       "        [-0.5       ],\n",
       "        [-0.5       ],\n",
       "        [-0.5       ]],\n",
       "\n",
       "       [[ 0.16666667],\n",
       "        [-0.5       ],\n",
       "        [-0.5       ],\n",
       "        [-0.5       ],\n",
       "        [-0.5       ],\n",
       "        [-0.5       ],\n",
       "        [-0.38888889],\n",
       "        [-0.5       ],\n",
       "        [ 0.05555556]],\n",
       "\n",
       "       [[-0.5       ],\n",
       "        [-0.5       ],\n",
       "        [-0.16666667],\n",
       "        [ 0.05555556],\n",
       "        [-0.5       ],\n",
       "        [ 0.38888889],\n",
       "        [ 0.16666667],\n",
       "        [ 0.5       ],\n",
       "        [-0.5       ]],\n",
       "\n",
       "       [[-0.5       ],\n",
       "        [-0.05555556],\n",
       "        [-0.27777778],\n",
       "        [ 0.5       ],\n",
       "        [-0.38888889],\n",
       "        [-0.5       ],\n",
       "        [-0.16666667],\n",
       "        [-0.5       ],\n",
       "        [-0.5       ]]])"
      ]
     },
     "execution_count": 2,
     "metadata": {},
     "output_type": "execute_result"
    }
   ],
   "source": [
    "X_s = X_s / 9\n",
    "X_s -= 0.5\n",
    "Y_s -= 1\n",
    "X_s[0]"
   ]
  },
  {
   "cell_type": "code",
   "execution_count": 3,
   "metadata": {},
   "outputs": [],
   "source": [
    "def loss_acc_plot(history):\n",
    "    fig, ax = plt.subplots(1,2)\n",
    "    fig.set_size_inches(12,6)\n",
    "\n",
    "    ax[0].plot(history.history['loss'], label='train loss')\n",
    "    ax[0].plot(history.history['val_loss'], label='val loss')\n",
    "    ax[0].set_title('Training and Validation Loss')\n",
    "    ax[0].set_ylabel('Loss')\n",
    "    ax[0].set_xlabel('Epochs')\n",
    "    ax[0].legend(['train', 'val'], loc='upper right')\n",
    "\n",
    "    ax[1].plot(history.history['accuracy'], label='accuracy')\n",
    "    ax[1].plot(history.history['val_accuracy'], label='val_accuracy')\n",
    "    ax[1].set_title('Training and Validation Accuracy')\n",
    "    ax[1].set_ylabel('Accuracy')\n",
    "    ax[1].set_xlabel('Epochs')\n",
    "    ax[1].legend(['train', 'val'], loc='upper right')\n",
    "\n",
    "    plt.show()"
   ]
  },
  {
   "cell_type": "code",
   "execution_count": 4,
   "metadata": {},
   "outputs": [],
   "source": [
    "optimizer = tf.keras.optimizers.Adam(0.001)"
   ]
  },
  {
   "cell_type": "code",
   "execution_count": 5,
   "metadata": {},
   "outputs": [],
   "source": [
    "def cnn_model_func1():\n",
    "    # Instantiate model\n",
    "    model = tf.keras.Sequential()\n",
    "    # add a convolution layer with 64 kernels of shape (3 x 3)\n",
    "    model.add(layers.Conv2D(64, kernel_size=(3,3), activation='relu', padding='same', input_shape=(9,9,1)))\n",
    "    # normalize the kernel values for Convolution Layers\n",
    "    model.add(layers.BatchNormalization())\n",
    "    # add a convolution layer with 64 kernels of shape (3 x 3)\n",
    "    model.add(layers.Conv2D(64, kernel_size=(3,3), activation='relu', padding='same'))\n",
    "    # normalize the kernel values for Convolution Layers\n",
    "    model.add(layers.BatchNormalization())\n",
    "    # add a convolution layer with 128 kernels of shape (1 x 1)\n",
    "    model.add(layers.Conv2D(128, kernel_size=(1,1), activation='relu', padding='same'))\n",
    "    # comprises the (9,9, 128) to a 10,368 (9*9*128) input nodes\n",
    "    model.add(layers.Flatten())\n",
    "    # Add a dense layer to perform matrix multiplication to result in an output matix with 729(81*9)\n",
    "    model.add(layers.Dense(81*9))\n",
    "    # normalize the dense layer above\n",
    "    model.add(layers.LayerNormalization(axis=-1))\n",
    "    # the last layer has 9 neurons corresponding to the 9 classes with a softmax activation function\n",
    "    model.add(layers.Reshape((9, 9, 9)))\n",
    "    # using softmax as activation function for multiclass\n",
    "    model.add(layers.Activation('softmax'))\n",
    "    \n",
    "    return model"
   ]
  },
  {
   "cell_type": "code",
   "execution_count": 6,
   "metadata": {},
   "outputs": [],
   "source": [
    "model = tf.keras.Sequential()\n",
    "\n",
    "model.add(layers.Conv2D(256, kernel_size=(3,3), activation='relu', padding='same', input_shape=(9,9,1)))\n",
    "model.add(layers.BatchNormalization())\n",
    "model.add(layers.Conv2D(256, kernel_size=(3,3), activation='relu', padding='same'))\n",
    "model.add(layers.BatchNormalization())\n",
    "model.add(layers.Conv2D(256, kernel_size=(3,3), activation='relu', padding='same'))\n",
    "model.add(layers.BatchNormalization())\n",
    "model.add(layers.Conv2D(256, kernel_size=(3,3), activation='relu', padding='same'))\n",
    "model.add(layers.BatchNormalization())\n",
    "model.add(layers.Conv2D(256, kernel_size=(3,3), activation='relu', padding='same'))\n",
    "model.add(layers.BatchNormalization())\n",
    "model.add(layers.Conv2D(256, kernel_size=(3,3), activation='relu', padding='same'))\n",
    "model.add(layers.BatchNormalization())\n",
    "model.add(layers.Conv2D(256, kernel_size=(3,3), activation='relu', padding='same'))\n",
    "model.add(layers.BatchNormalization())\n",
    "model.add(layers.Conv2D(256, kernel_size=(3,3), activation='relu', padding='same'))\n",
    "model.add(layers.BatchNormalization())\n",
    "model.add(layers.Conv2D(256, kernel_size=(3,3), activation='relu', padding='same'))\n",
    "model.add(layers.Flatten())\n",
    "model.add(layers.Dense(81*9))\n",
    "model.add(layers.Dropout(0.1))\n",
    "model.add(tf.keras.layers.LayerNormalization(axis=-1))\n",
    "model.add(layers.Reshape((9, 9, 9)))\n",
    "model.add(layers.Activation('softmax'))"
   ]
  },
  {
   "cell_type": "code",
   "execution_count": 8,
   "metadata": {},
   "outputs": [
    {
     "name": "stdout",
     "output_type": "stream",
     "text": [
      "Epoch 1/5\n",
      "31250/31250 [==============================] - 851s 27ms/step - loss: 0.0994 - accuracy: 0.9515\n",
      "Epoch 2/5\n",
      "31250/31250 [==============================] - 851s 27ms/step - loss: 0.0916 - accuracy: 0.9541\n",
      "Epoch 3/5\n",
      "31250/31250 [==============================] - 851s 27ms/step - loss: 0.0851 - accuracy: 0.9563\n",
      "Epoch 4/5\n",
      "31250/31250 [==============================] - 851s 27ms/step - loss: 0.0799 - accuracy: 0.9581\n",
      "Epoch 5/5\n",
      "31250/31250 [==============================] - 851s 27ms/step - loss: 0.0757 - accuracy: 0.9595\n"
     ]
    }
   ],
   "source": [
    "model.compile(loss='sparse_categorical_crossentropy', optimizer=optimizer, metrics=['accuracy'])\n",
    "\n",
    "history1 = model.fit(X_s, Y_s, batch_size=32, epochs=5)\n"
   ]
  },
  {
   "cell_type": "code",
   "execution_count": 9,
   "metadata": {},
   "outputs": [
    {
     "name": "stdout",
     "output_type": "stream",
     "text": [
      "INFO:tensorflow:Assets written to: saved_model/assets\n"
     ]
    },
    {
     "name": "stderr",
     "output_type": "stream",
     "text": [
      "INFO:tensorflow:Assets written to: saved_model/assets\n"
     ]
    },
    {
     "ename": "",
     "evalue": "",
     "output_type": "error",
     "traceback": [
      "\u001b[1;31mThe Kernel crashed while executing code in the the current cell or a previous cell. Please review the code in the cell(s) to identify a possible cause of the failure. Click <a href='https://aka.ms/vscodeJupyterKernelCrash'>here</a> for more info. View Jupyter <a href='command:jupyter.viewOutput'>log</a> for further details."
     ]
    }
   ],
   "source": [
    "model.save('saved_model/')"
   ]
  }
 ],
 "metadata": {
  "kernelspec": {
   "display_name": "Python 3",
   "language": "python",
   "name": "python3"
  },
  "language_info": {
   "codemirror_mode": {
    "name": "ipython",
    "version": 3
   },
   "file_extension": ".py",
   "mimetype": "text/x-python",
   "name": "python",
   "nbconvert_exporter": "python",
   "pygments_lexer": "ipython3",
   "version": "3.10.12"
  }
 },
 "nbformat": 4,
 "nbformat_minor": 2
}
