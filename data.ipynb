{
 "cells": [
  {
   "cell_type": "code",
   "execution_count": 39,
   "metadata": {},
   "outputs": [],
   "source": [
    "import csv"
   ]
  },
  {
   "cell_type": "code",
   "execution_count": 40,
   "metadata": {},
   "outputs": [],
   "source": [
    "file = open('sudoku.csv', 'r')"
   ]
  },
  {
   "cell_type": "code",
   "execution_count": 41,
   "metadata": {},
   "outputs": [],
   "source": [
    "r = csv.reader(file)"
   ]
  },
  {
   "cell_type": "code",
   "execution_count": 42,
   "metadata": {},
   "outputs": [
    {
     "data": {
      "text/plain": [
       "['quizzes', 'solutions']"
      ]
     },
     "execution_count": 42,
     "metadata": {},
     "output_type": "execute_result"
    }
   ],
   "source": [
    "rows = []\n",
    "for i in r:\n",
    "    rows.append(i)\n",
    "rows.pop(0)"
   ]
  },
  {
   "cell_type": "code",
   "execution_count": 43,
   "metadata": {},
   "outputs": [],
   "source": [
    "train_set = rows[:500000]\n",
    "# print(len(train_set))\n",
    "cv_set = rows[500000:750000]\n",
    "# print(len(cv_set))\n",
    "test_set = rows[750000:1000000]\n",
    "# print(len(test_set))"
   ]
  },
  {
   "cell_type": "code",
   "execution_count": 44,
   "metadata": {},
   "outputs": [],
   "source": [
    "train_x, train_y = [], []\n",
    "for i in train_set:\n",
    "    train_x.append(i[0])\n",
    "    train_y.append(i[1])\n",
    "cv_x, cv_y = [], []\n",
    "for i in cv_set:\n",
    "    cv_x.append(i[0])\n",
    "    cv_y.append(i[1])\n",
    "test_x, test_y = [], []\n",
    "for i in test_set:\n",
    "    test_x.append(i[0])\n",
    "    test_y.append(i[1])\n",
    "# print(train_x[:1])\n",
    "# print(train_y[:1])"
   ]
  }
 ],
 "metadata": {
  "kernelspec": {
   "display_name": "Python 3",
   "language": "python",
   "name": "python3"
  },
  "language_info": {
   "codemirror_mode": {
    "name": "ipython",
    "version": 3
   },
   "file_extension": ".py",
   "mimetype": "text/x-python",
   "name": "python",
   "nbconvert_exporter": "python",
   "pygments_lexer": "ipython3",
   "version": "3.10.12"
  }
 },
 "nbformat": 4,
 "nbformat_minor": 2
}
